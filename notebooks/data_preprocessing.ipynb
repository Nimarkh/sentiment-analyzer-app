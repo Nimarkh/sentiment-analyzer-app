{
  "cells": [
    {
      "cell_type": "markdown",
      "metadata": {},
      "source": [
        "# Data Preprocessing Notebook\n",
        "\n",
        "# Notebook for model training\n"
      ]
    },
    {
      "cell_type": "code",
      "execution_count": null,
      "metadata": {},
      "outputs": [],
      "source": [
        "import pandas as pd\n",
        "from sklearn.model_selection import train_test_split\n",
        "from sklearn.feature_extraction.text import CountVectorizer\n",
        "from sklearn.naive_bayes import MultinomialNB\n",
        "from sklearn.metrics import accuracy_score\n",
        "import joblib\n",
        "\n",
        "# Simple training data\n",
        "data = {\n",
        "    'text': [\n",
        "        'I love this movie',\n",
        "        'This is amazing!',\n",
        "        'I hate this',\n",
        "        'This was terrible',\n",
        "        'I enjoy watching this',\n",
        "        'This is bad',\n",
        "        'What a great day',\n",
        "        'Worst experience ever'\n",
        "    ],\n",
        "    'label': [1, 1, 0, 0, 1, 0, 1, 0]  # 1=positive, 0=negative\n",
        "}\n",
        "\n",
        "df = pd.DataFrame(data)\n",
        "\n",
        "# Split data\n",
        "X_train, X_test, y_train, y_test = train_test_split(df['text'], df['label'], test_size=0.25)\n",
        "\n",
        "# Convert text to vectors\n",
        "vectorizer = CountVectorizer()\n",
        "X_train_vec = vectorizer.fit_transform(X_train)\n",
        "X_test_vec = vectorizer.transform(X_test)\n",
        "\n",
        "# Train model\n",
        "model = MultinomialNB()\n",
        "model.fit(X_train_vec, y_train)\n",
        "\n",
        "# Evaluate\n",
        "preds = model.predict(X_test_vec)\n",
        "print(\"Accuracy:\", accuracy_score(y_test, preds))\n",
        "\n",
        "# Save model and vectorizer to app folder\n",
        "import os\n",
        "app_dir = os.path.join(os.path.dirname(os.getcwd()), 'app')\n",
        "os.makedirs(app_dir, exist_ok=True)\n",
        "\n",
        "model_path = os.path.join(app_dir, 'sentiment_model.pkl')\n",
        "vectorizer_path = os.path.join(app_dir, 'vectorizer.pkl')\n",
        "\n",
        "joblib.dump(model, model_path)\n",
        "joblib.dump(vectorizer, vectorizer_path)\n",
        "\n",
        "print(f\"Model saved to: {model_path}\")\n",
        "print(f\"Vectorizer saved to: {vectorizer_path}\")\n"
      ]
    }
  ],
  "metadata": {
    "language_info": {
      "name": "python"
    }
  },
  "nbformat": 4,
  "nbformat_minor": 2
}
